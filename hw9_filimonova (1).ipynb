{
  "cells": [
    {
      "cell_type": "markdown",
      "id": "9157b443",
      "metadata": {
        "id": "9157b443"
      },
      "source": [
        "# <a href=\"https://miptstats.github.io/courses/ad_mipt.html\">Phystech@DataScience</a>\n",
        "## Домашнее задание 9\n",
        "\n",
        "**Правила, <font color=\"red\">прочитайте внимательно</font>:**\n",
        "\n",
        "* Выполненную работу нужно отправить телеграм-боту `@miptstats_pds_bot`. Для начала работы с ботом каждый раз отправляйте `/start`. **Работы, присланные иным способом, не принимаются.**\n",
        "* Дедлайн см. в боте. После дедлайна работы не принимаются кроме случаев наличия уважительной причины.\n",
        "* Прислать нужно ноутбук в формате `ipynb`.\n",
        "* Выполнять задание необходимо полностью самостоятельно. **При обнаружении списывания все участники списывания будут сдавать устный зачет.**\n",
        "* Решения, размещенные на каких-либо интернет-ресурсах, не принимаются. Кроме того, публикация решения в открытом доступе может быть приравнена к предоставлении возможности списать.\n",
        "* Для выполнения задания используйте этот ноутбук в качестве основы, ничего не удаляя из него. Можно добавлять необходимое количество ячеек.\n",
        "* Комментарии к решению пишите в markdown-ячейках.\n",
        "* Выполнение задания (ход решения, выводы и пр.) должно быть осуществлено на русском языке.\n",
        "* Если код будет не понятен проверяющему, оценка может быть снижена.\n",
        "* Никакой код из данного задания при проверке запускаться не будет. *Если код студента не выполнен, недописан и т.д., то он не оценивается.*\n",
        "* **Код из рассказанных на занятиях ноутбуков можно использовать без ограничений.**\n",
        "\n",
        "**Правила оформления теоретических задач:**\n",
        "\n",
        "* Решения необходимо прислать одним из следующих способов:\n",
        "  * фотографией в правильной ориентации, где все четко видно, а почерк разборчив,\n",
        "    * отправив ее как файл боту вместе с ноутбуком *или*\n",
        "    * вставив ее в ноутбук посредством `Edit -> Insert Image` (<font color=\"red\">фото, вставленные ссылкой, не принимаются</font>);\n",
        "  * в виде $\\LaTeX$ в markdown-ячейках.\n",
        "* Решения не проверяются, если какое-то требование не выполнено. Особенно внимательно все проверьте в случае выбора второго пункта (вставки фото в ноутбук). <font color=\"red\"><b>Неправильно вставленные фотографии могут не передаться при отправке.</b></font> Для проверки попробуйте переместить `ipynb` в другую папку и открыть его там.\n",
        "* В решениях поясняйте, чем вы пользуетесь, хотя бы кратко. Например, если пользуетесь независимостью, то достаточно подписи вида \"*X и Y незав.*\"\n",
        "* Решение, в котором есть только ответ, и отсутствуют вычисления, оценивается в 0 баллов.\n",
        "\n",
        "**Баллы за задание:**\n",
        "\n",
        "<b><font color=\"blue\">Легкая часть</font></b> (достаточно на \"хор\"):\n",
        "* Задача 1 &mdash; 20 баллов\n",
        "* Задача 2 &mdash;  20 баллов\n",
        "* Задача 3 &mdash;  25 баллов\n",
        "* Задача 4 &mdash; 25 баллов\n",
        "\n",
        "<b><font color=\"orange\">Сложная часть</font></b> (необходимо на \"отл\"):\n",
        "* Задача 5 &mdash; 35 баллов\n",
        "\n",
        "\n",
        "-----"
      ]
    },
    {
      "cell_type": "code",
      "execution_count": null,
      "id": "66c01268",
      "metadata": {
        "id": "66c01268"
      },
      "outputs": [],
      "source": [
        "# Bot check\n",
        "\n",
        "# HW_ID: phds_hw9\n",
        "# Бот проверит этот ID и предупредит, если случайно сдать что-то не то.\n",
        "\n",
        "# Status: not final\n",
        "# Перед отправкой в финальном решении удали \"not\" в строчке выше.\n",
        "# Так бот проверит, что ты отправляешь финальную версию, а не промежуточную.\n",
        "# Никакие значения в этой ячейке не влияют на факт сдачи работы."
      ]
    },
    {
      "cell_type": "code",
      "execution_count": 2,
      "id": "6744ddcf",
      "metadata": {
        "id": "6744ddcf"
      },
      "outputs": [],
      "source": [
        "import numpy as np\n",
        "import scipy.stats as sps\n",
        "import matplotlib.pyplot as plt\n",
        "import seaborn as sns\n",
        "import pandas as pd\n",
        "\n",
        "sns.set(palette='Set2')"
      ]
    },
    {
      "cell_type": "markdown",
      "id": "004c83b3",
      "metadata": {
        "id": "004c83b3"
      },
      "source": [
        "### <b><i><font color=\"blue\">Легкая часть</font></i></b>\n"
      ]
    },
    {
      "cell_type": "markdown",
      "id": "0d1a2899",
      "metadata": {
        "id": "0d1a2899"
      },
      "source": [
        "### Задача 1\n",
        "Пусть $X = ( X_1, ... X_n)$ — выборка из неизвестного распределения $\\mathsf{P} \\in \\{ \\mathsf{P}_{\\theta} | \\theta \\in \\Theta \\}$\n",
        "и для проверки гипотез $\\mathsf{H}_0 : \\theta \\in [−1, 1]$   vs.  $\\mathsf{H}_1 : \\theta \\notin [−1, 1]$ используется критерий\n",
        "$S = \\{x \\in \\mathbb{R}^n | T(x) > 1\\}$. Предположим, $T(x)$ имеет распределение $\\mathcal{N}(\\theta, 1)$. Какие\n",
        "ответы возможны в результате проверки данных гипотез и в каких случаях? Найдите\n",
        "вероятность ошибки первого рода.\n",
        "\n",
        "*Указание:*\n",
        "- Не забудьте, что в определении вероятности ошибки I рода стоит супремум по всем параметрам из основной гипотезы\n",
        "- Можно показать, где достигается супремум графически. Например, с помощью `sps.norm`, где параметр `loc` отвечает за сдвиг.\n",
        "\n"
      ]
    },
    {
      "cell_type": "markdown",
      "id": "d5953131",
      "metadata": {
        "id": "d5953131"
      },
      "source": [
        "### Задача 2\n",
        "\n",
        "Проведен эксперимент, получены данные из экспоненциального распределения."
      ]
    },
    {
      "cell_type": "code",
      "execution_count": 3,
      "id": "874ad1c7",
      "metadata": {
        "id": "874ad1c7"
      },
      "outputs": [],
      "source": [
        "sample = [0.11731702, 0.75253036, 0.32918642, 0.22823564, 0.04240622,\n",
        "        0.04239907, 0.01495969, 0.50280772, 0.22977054, 0.30781252,\n",
        "        0.00519983, 0.87588937, 0.44660739, 0.05967191, 0.05016975,\n",
        "        0.05065286, 0.09068843, 0.18598196, 0.14138427, 0.08605575,\n",
        "        0.23659272, 0.03755863, 0.08637888, 0.1140693 , 0.15223367,\n",
        "        0.384484  , 0.05568397, 0.18050729, 0.22437618, 0.01189096]"
      ]
    },
    {
      "cell_type": "markdown",
      "id": "3a3e2c61",
      "metadata": {
        "id": "3a3e2c61"
      },
      "source": [
        "Необходимо проверить, является ли это распределение с параметром $\\lambda=2$. Используя Критерий Вальда, сделайте вывод по данному предположению.\n",
        "\n",
        "$X_1, ... X_n$ &mdash; выборка из распределения $Exp(\\lambda)$.  \n",
        "Проверьте гипотезу $\\mathsf{H}_0\\colon \\lambda = 2$ vs. $\\mathsf{H}_1\\colon \\lambda \\neq 2$  \n",
        "  \n",
        "\n",
        "\n"
      ]
    },
    {
      "cell_type": "markdown",
      "id": "61838f5e",
      "metadata": {
        "id": "61838f5e"
      },
      "source": [
        "**1.** Из лекции вы узнали про критерий Вальда.\n",
        "Для случая двусторонней альтернативы $\\mathsf{H}_1\\colon \\theta \\neq \\theta_0$ критерий имел следующий вид:\n",
        "$$\\large{S = \\left\\{ \\left|\\sqrt{n} \\frac{\\hat{\\theta} - \\theta_0}{\\hat{\\sigma}} \\right| > z_{1 - \\frac{\\alpha}{2}} \\right\\}}$$\n",
        "\n",
        "где $\\hat{\\theta}$ &mdash; асимптотически нормальная оценка $\\theta$ с асимптотической дисперсией $\\sigma^2(\\theta)$,\n",
        "$\\hat{\\sigma}$ &mdash; состоятельная оценка $\\sigma(\\theta)$.  \n",
        "\n",
        "Эквивалентный асимптотичсекий доверительный интервал для параметра $\\theta$ уровня доверия $1-\\alpha$\n",
        "$$C = \\left( \\hat{\\theta} - \\frac{z_{1-\\alpha/2} \\hat{\\sigma}}{\\sqrt{n}}, \\hat{\\theta} + \\frac{z_{1-\\alpha/2} \\hat{\\sigma}}{\\sqrt{n}}\\right)$$\n",
        "\n",
        "На первой лекции вы получали, что $\\frac{1}{\\overline{X}}$ &mdash; АНО для параметра $\\theta$ c асимптотической дисперсией $\\theta^2$\n",
        "\n",
        "\n",
        " **Выпишите состоятельную оценку дисперсии и статистику критерия Вальда**\n",
        "\n"
      ]
    },
    {
      "cell_type": "markdown",
      "id": "fc62e64c",
      "metadata": {
        "id": "fc62e64c"
      },
      "source": [
        "**Ответ:**\n",
        "\n",
        "\n",
        "1.   состоятельная оценка дисперсии $\\hat\\sigma=\\sigma(\\hat\\theta)=\\frac{1}{\\overline{X}}$\n",
        "2.   Статистика критерия Вальда: $W(x)=\\sqrt{n}\\frac{\\hat\\theta-\\theta_0}{\\hat\\sigma}$.\n"
      ]
    },
    {
      "cell_type": "markdown",
      "id": "5d9971ca",
      "metadata": {
        "id": "5d9971ca"
      },
      "source": [
        "На лекции вы узнали про p-value &mdash; это вероятность получить при справедливости $H_0$ такое значение статистики $t = T(x)$ или еще более экстремальное, то есть в случае двустороннего критерия\n",
        "$$p(x) = \\mathsf{P}_0(T(X) \\geq|t|) + \\mathsf{P}_0(T(X) \\leq -|t|)$$\n",
        "Для расчета можно использовать функции из библиотеки `scipy.stats`."
      ]
    },
    {
      "cell_type": "markdown",
      "id": "dd8eb639",
      "metadata": {
        "id": "dd8eb639"
      },
      "source": [
        "**2**. Оформите функцию подсчета статистики критерия, p-value и доверительного интервала"
      ]
    },
    {
      "cell_type": "code",
      "execution_count": 73,
      "id": "d82257c3",
      "metadata": {
        "id": "d82257c3"
      },
      "outputs": [],
      "source": [
        "def wald_test(sample, theta, estimation_theta, estimation_sigma, alternative='two_sided'):\n",
        "    \"\"\"\n",
        "    param sample: реализация выборки\n",
        "    param theta: истинное значение параметра\n",
        "    param estimation_theta: оценка параметра\n",
        "    param estimation_sigma: оценка асимптотической дисперсии\n",
        "        оценки estimation_sigma\n",
        "    param alternative: вид альтернативной гипотезы,\n",
        "        может принимать одно из значений 'two_sided', 'less', 'greater'\n",
        "\n",
        "    return statistic\n",
        "    return p_value\n",
        "    return conf_int - доверительный интервал\n",
        "    \"\"\"\n",
        "    alpha=0.05\n",
        "    n=len(sample)\n",
        "    statistic=np.sqrt(n)*((estimation_theta-theta)/estimation_sigma)\n",
        "\n",
        "    if alternative=='two_sided':\n",
        "      c=np.abs(np.abs(sps.norm.ppf(1-alpha/2))) # посчитаем критическое значение статистики\n",
        "      p_value=sps.norm.cdf(c)+sps.norm.sf(c)\n",
        "    elif alternative=='less':  # левосторонний\n",
        "      c=np.abs(sps.norm.ppf(alpha))# посчитаем критическое значение статистики\n",
        "      p_value=sps.norm.cdf(c)\n",
        "    elif alternative=='greater':  # правосторонний\n",
        "      c=np.abs(sps.norm.ppf(1-alpha)) # посчитаем критическое значение статистики\n",
        "      p_value=sps.norm.sf(c)\n",
        "\n",
        "    conf_int=(estimation_theta-(c*estimation_sigma)/np.sqrt(n),estimation_theta+(c*estimation_sigma)/np.sqrt(n))\n",
        "    return statistic, p_value, conf_int\n"
      ]
    },
    {
      "cell_type": "markdown",
      "id": "beef33ef",
      "metadata": {
        "id": "beef33ef"
      },
      "source": [
        "**3**. Проверьте гипотезу с двусторонней альтернативой."
      ]
    },
    {
      "cell_type": "code",
      "execution_count": 74,
      "id": "babdcce6",
      "metadata": {
        "id": "babdcce6",
        "colab": {
          "base_uri": "https://localhost:8080/"
        },
        "outputId": "681948d9-e357-4e36-a0ad-dcb53dda9158"
      },
      "outputs": [
        {
          "output_type": "stream",
          "name": "stdout",
          "text": [
            "statistic=3.27 , p-value=1.0 , ДИ=(3.187693843343649, 6.740324187101983)\n"
          ]
        }
      ],
      "source": [
        "statistic_two, p_value_two, conf_int_two=wald_test(sample, theta=2, estimation_theta=1/np.mean(sample), estimation_sigma=1/np.mean(sample) )\n",
        "print(f'statistic={np.round(statistic_two,2)}', f'p-value={p_value_two}', f'ДИ={conf_int_two}', sep=' , ')"
      ]
    },
    {
      "cell_type": "markdown",
      "source": [
        "Сравним статистики с критическим значением статистики."
      ],
      "metadata": {
        "id": "OOTFT4RMsS7A"
      },
      "id": "OOTFT4RMsS7A"
    },
    {
      "cell_type": "code",
      "source": [
        "c=np.abs(sps.norm.ppf(1-0.05/2))\n",
        "print('Истинное значение статистики=', np.round(c, 2))"
      ],
      "metadata": {
        "colab": {
          "base_uri": "https://localhost:8080/"
        },
        "id": "Uc0QH8XVsX2O",
        "outputId": "4fd4340a-73f9-42c6-ac7b-f0cae7770dff"
      },
      "id": "Uc0QH8XVsX2O",
      "execution_count": 75,
      "outputs": [
        {
          "output_type": "stream",
          "name": "stdout",
          "text": [
            "Истинное значение статистики= 1.96\n"
          ]
        }
      ]
    },
    {
      "cell_type": "markdown",
      "id": "ab32a1f0",
      "metadata": {
        "id": "ab32a1f0"
      },
      "source": [
        "**Вывод:** реализация выборки соответствует критерию $S=(|w|>c)$. Значение ${p-value}>\\alpha$, параметр $\\lambda=2$ не попадает в ДИ. Из этого  можно сделать вывод, что гипотеза $H_0$ отвергнута."
      ]
    },
    {
      "cell_type": "markdown",
      "id": "b9269b95",
      "metadata": {
        "id": "b9269b95"
      },
      "source": [
        "**4**. Проверьте гипотезу с правосторонней альтернативой."
      ]
    },
    {
      "cell_type": "code",
      "execution_count": 76,
      "id": "852db5bd",
      "metadata": {
        "id": "852db5bd",
        "colab": {
          "base_uri": "https://localhost:8080/"
        },
        "outputId": "8fcdc1e2-7c1b-4a56-dd47-4e5db13f08b8"
      },
      "outputs": [
        {
          "output_type": "stream",
          "name": "stdout",
          "text": [
            "statistic=3.27 , p-value=0.05 , ДИ=(3.4732783303117714, 6.45473970013386)\n"
          ]
        }
      ],
      "source": [
        "statistic_right, p_value_right, conf_int_right=wald_test(sample, theta=2, estimation_theta=1/np.mean(sample), estimation_sigma=1/np.mean(sample),alternative='greater')\n",
        "print(f'statistic={np.round(statistic_right,2)}', f'p-value={np.round(p_value_right,2)}', f'ДИ={conf_int_right}', sep=' , ')"
      ]
    },
    {
      "cell_type": "markdown",
      "source": [
        "Выведем криическое значение статистики"
      ],
      "metadata": {
        "id": "bYjKudmpxhxN"
      },
      "id": "bYjKudmpxhxN"
    },
    {
      "cell_type": "code",
      "source": [
        "c=sps.norm.ppf(1-0.05)\n",
        "print('Истинное значение статистики=', np.round(c, 2))"
      ],
      "metadata": {
        "colab": {
          "base_uri": "https://localhost:8080/"
        },
        "id": "JdYig-HvxpQd",
        "outputId": "fe450997-e69b-4c80-dc08-a3a912fca956"
      },
      "id": "JdYig-HvxpQd",
      "execution_count": 77,
      "outputs": [
        {
          "output_type": "stream",
          "name": "stdout",
          "text": [
            "Истинное значение статистики= 1.64\n"
          ]
        }
      ]
    },
    {
      "cell_type": "markdown",
      "id": "677c5087",
      "metadata": {
        "id": "677c5087"
      },
      "source": [
        "**Вывод:**реализация выборки соответствует критерию $S=(w>c)$. Значение ${p-value}\\leq\\alpha$, параметр $\\lambda=2$ не попадает в ДИ. Из этого  можно сделать вывод, что гипотеза $H_0$ отвергнута."
      ]
    },
    {
      "cell_type": "markdown",
      "id": "14bcda8f",
      "metadata": {
        "id": "14bcda8f"
      },
      "source": [
        "**5**. Проверьте гипотезу с левосторонней альтернативой."
      ]
    },
    {
      "cell_type": "code",
      "execution_count": 78,
      "id": "e37f9413",
      "metadata": {
        "id": "e37f9413",
        "colab": {
          "base_uri": "https://localhost:8080/"
        },
        "outputId": "36ed33e6-ad27-4056-ff00-70e654da9465"
      },
      "outputs": [
        {
          "output_type": "stream",
          "name": "stdout",
          "text": [
            "statistic=3.27 , p-value=0.95 , ДИ=(3.4732783303117705, 6.454739700133861)\n"
          ]
        }
      ],
      "source": [
        "statistic_left, p_value_left, conf_int_left= wald_test(sample, theta=2, estimation_theta=1/np.mean(sample), estimation_sigma=1/np.mean(sample) ,alternative='less')\n",
        "print(f'statistic={np.round(statistic_left,2)}', f'p-value={np.round(p_value_left,2)}', f'ДИ={conf_int_left}', sep=' , ')"
      ]
    },
    {
      "cell_type": "markdown",
      "source": [
        "Выведем критическое значение статистики"
      ],
      "metadata": {
        "id": "l2PGQovSx-Ef"
      },
      "id": "l2PGQovSx-Ef"
    },
    {
      "cell_type": "code",
      "source": [
        "c=sps.norm.ppf(0.05)\n",
        "print('Истинное значение статистики=', np.round(c, 2))"
      ],
      "metadata": {
        "colab": {
          "base_uri": "https://localhost:8080/"
        },
        "id": "PHL8y-1EyDPu",
        "outputId": "79cadc0d-75c6-47d3-e0de-7d704b506558"
      },
      "id": "PHL8y-1EyDPu",
      "execution_count": 79,
      "outputs": [
        {
          "output_type": "stream",
          "name": "stdout",
          "text": [
            "Истинное значение статистики= -1.64\n"
          ]
        }
      ]
    },
    {
      "cell_type": "markdown",
      "id": "a899cb81",
      "metadata": {
        "id": "a899cb81"
      },
      "source": [
        "**Вывод:** реализация выборки не соответствует критерию статистики $S=(W<C)$ , значение ${p-value}>\\alpha$, значение параметра не попадает в ДИ. Гипотеза $H_0$ не отвергается."
      ]
    },
    {
      "cell_type": "markdown",
      "id": "37f3364a",
      "metadata": {
        "id": "37f3364a"
      },
      "source": [
        "### Задача 3\n",
        "\n",
        "На практике часто рассматривают асимптотические критерии, например, критерий Вальда. Такие критерии контролируют вероятность ошибки I рода на уровне $\\alpha$ только в пределе, однако для небольших выборок она может сильно отличаться от $\\alpha$, причем нередко в большую сторону. Поэтому для таких критериев возникает необходимость в вычислении значения вероятности ошибки I рода или *реального уровня значимости* при конечной выборке.\n",
        "\n",
        "Зачастую посчитать точное значение реального уровня значимости довольно сложно, поэтому вместо него вычисляют оценку с помощью сэмплирования по методу Монте-Карло.\n",
        "\n",
        "Пусть гипотеза $\\mathsf{H}_0$ простая, то есть $\\mathsf{H}_0\\colon \\mathsf{P} = \\mathsf{P}_0$. Для ее проверки по конечной выборке $X_1, ..., X_n$ используется критерий $S$. **Опишите схему оценки реального уровня** значимости критерия $S$ методом Монте-Карло.\n"
      ]
    },
    {
      "cell_type": "markdown",
      "id": "d76af73a",
      "metadata": {
        "id": "d76af73a"
      },
      "source": [
        "**Ответ:**\n",
        "$P(I_s)=P_{\\theta_0}(X\\in{S})=E_{\\theta}I(X\\in{S})$\n",
        "\n",
        "1.   Генерируем к выборок из распределения $P_{\\theta_0}$ , т.е. в нашем случае из рапределения с параметром $P_0$ размера n\n",
        "2.   Считаем значение индикатора для каждой выборки $I(X_k\\in{S})$\n",
        "3. Считаем реальный уровень значимости , как среднее по всем индикаторам $P(I_s)=\\overline{I(X_k\\in{S})}$.\n",
        "\n"
      ]
    },
    {
      "cell_type": "markdown",
      "id": "1d6e5aaa",
      "metadata": {
        "id": "1d6e5aaa"
      },
      "source": [
        "Если гипотеза $\\mathsf{H}_0$ сложная, то есть $\\mathsf{H}_0\\colon \\mathsf{P} \\in \\mathscr{P}_0$, то можно повторить такую процедуру несколько раз для разных $\\mathsf{P} \\in \\mathscr{P}_0$.\n",
        "\n",
        "Рассмотрим альтернативную гипотезу $\\mathsf{H}_1\\colon \\mathsf{P} \\in \\mathscr{P}_1$. **Опишите схему оценки мощности** критерия $S$ методом Монте-Карло."
      ]
    },
    {
      "cell_type": "markdown",
      "id": "b7ef9eb9",
      "metadata": {
        "id": "b7ef9eb9"
      },
      "source": [
        "**Ответ:**\n",
        "$\\beta_{s}(\\theta)=P_{\\theta}(X\\in{S})$\n",
        "1.   Генерируем л выборок из распределения $\\mathsf{P} \\in \\mathscr{P}_1$ размера n\n",
        "2.   аналогично, для каждой выборки считаем значение индикатора $I(X_k\\in{S})$\n",
        "3. Найдем мощность, как среднее по всем индикаторам $\\overline{I(X_k\\in{S})}$\n",
        "4. Повторяем для всех $\\mathsf{P} \\in \\mathscr{P}_1$ .\n"
      ]
    },
    {
      "cell_type": "markdown",
      "id": "9dd91e81",
      "metadata": {
        "id": "9dd91e81"
      },
      "source": [
        "Пусть $X_1, ..., X_n$ &mdash; выборка из пуассоновского распределения с параметром $\\theta$. Рассмотрим гипотезы $\\mathsf{H}_0\\colon \\theta = 1\\ \\ vs.\\ \\ \\mathsf{H}_1\\colon \\theta \\not= 1$ и критерий Вальда для их проверки.\n",
        "\n",
        "**1.** **Оцените реальный уровень значимости** критерия для $ n = 50$."
      ]
    },
    {
      "cell_type": "code",
      "execution_count": 80,
      "id": "988feee1",
      "metadata": {
        "id": "988feee1"
      },
      "outputs": [],
      "source": [
        "# двусторонняя альтернатива\n",
        "alpha=0.05\n",
        "theta=1\n",
        "n=50\n",
        "k=1000"
      ]
    },
    {
      "cell_type": "markdown",
      "source": [
        "Генерируем выборку из пуассоновского распределения с заданным параметром, посчитаем АНО параметра $\\hat{\\theta}=\\overline{X}$ и состоятельную оценку дисперсии $\\hat{\\sigma}=\\sigma(\\hat{\\theta})=\\sqrt{\\hat{\\theta}}$."
      ],
      "metadata": {
        "id": "LKPtaAk9mZ8i"
      },
      "id": "LKPtaAk9mZ8i"
    },
    {
      "cell_type": "code",
      "source": [
        "X=sps.poisson.rvs(mu=1,size=(k,n))\n",
        "estimation_theta=np.mean(X,axis=1)\n",
        "estimation_sigma=np.sqrt(estimation_theta)"
      ],
      "metadata": {
        "id": "fSjOHrOQmad-"
      },
      "id": "fSjOHrOQmad-",
      "execution_count": 81,
      "outputs": []
    },
    {
      "cell_type": "markdown",
      "source": [
        "Считаем критическое значение статистики, статистику и выводим  реальный уровень значимости."
      ],
      "metadata": {
        "id": "IO05FB_Rn_08"
      },
      "id": "IO05FB_Rn_08"
    },
    {
      "cell_type": "code",
      "source": [
        "z=sps.norm.ppf(1-alpha/2)\n",
        "statistic=np.abs(np.sqrt(n)*((estimation_theta-theta)/estimation_sigma))\n",
        "\n",
        "p=np.mean(statistic>z)\n",
        "p"
      ],
      "metadata": {
        "colab": {
          "base_uri": "https://localhost:8080/"
        },
        "id": "t34EVKE3oAbE",
        "outputId": "5b67bd16-3c1e-4f95-832d-a99579b9f6ba"
      },
      "id": "t34EVKE3oAbE",
      "execution_count": 82,
      "outputs": [
        {
          "output_type": "execute_result",
          "data": {
            "text/plain": [
              "0.064"
            ]
          },
          "metadata": {},
          "execution_count": 82
        }
      ]
    },
    {
      "cell_type": "markdown",
      "id": "76973cfd",
      "metadata": {
        "id": "76973cfd"
      },
      "source": [
        "**Вывод:** при размере выборки n=50 значение реального уровня значимости в пределе находится на уровне $\\alpha$, причем подтверждается, что при небольшом размере выборки  реальный уровень значимости может превышать заданный. Это показывает, что критерий Вальда можно применять для выборок данного размера."
      ]
    },
    {
      "cell_type": "markdown",
      "id": "4e645cc9",
      "metadata": {
        "id": "4e645cc9"
      },
      "source": [
        "**2.** Пусть $n=50$. **Сравните мощности критериев**, соответствующих двусторонней, левосторонней и правосторонней альтернативам при $\\theta=0.2$ и при $\\theta=2$."
      ]
    },
    {
      "cell_type": "markdown",
      "source": [
        "Сгенерируем выборки для двух данных параметров и  посчитаем критические значения статистик, соответствующие двусторонним,левостороннй и правосторонним альтернативам."
      ],
      "metadata": {
        "id": "D6d6mHLfoz1s"
      },
      "id": "D6d6mHLfoz1s"
    },
    {
      "cell_type": "code",
      "execution_count": 83,
      "id": "51b10c35",
      "metadata": {
        "id": "51b10c35"
      },
      "outputs": [],
      "source": [
        "n=50\n",
        "k=10000\n",
        "alpha=0.05\n",
        "\n",
        "theta_1=0.2\n",
        "X1=sps.poisson(mu=theta_1).rvs(size=(k,n))\n",
        "estimation_theta_1=np.mean(X1, axis=1)\n",
        "estimation_sigma_1=np.sqrt(estimation_theta_1)\n",
        "\n",
        "theta_2=2\n",
        "X2=sps.poisson(mu=theta_2).rvs(size=(k,n))\n",
        "estimation_theta_2=np.mean(X2, axis=1)\n",
        "estimation_sigma_2=np.sqrt(estimation_theta_2)\n",
        "\n",
        "z_two=sps.norm.ppf(1-alpha/2)\n",
        "z_left=sps.norm.ppf(alpha)\n",
        "z_right=sps.norm.ppf(1-alpha)"
      ]
    },
    {
      "cell_type": "markdown",
      "source": [
        "Вычислим мощности критериев и для сравнения выведем все в виде таблице"
      ],
      "metadata": {
        "id": "TUH1eolisJQL"
      },
      "id": "TUH1eolisJQL"
    },
    {
      "cell_type": "code",
      "source": [
        "w1=np.sqrt(n)*((estimation_theta_1-1)/estimation_sigma_1)\n",
        "w2=np.sqrt(n)*((estimation_theta_2-1)/estimation_sigma_2)\n",
        "\n",
        "data={\n",
        "    'Мощность для theta=0.2 ': [np.mean(np.abs(w1)>z_two), np.mean(w1<z_left), np.mean(w1>z_right)],\n",
        "    'Мощность для theta=2' : [np.mean(np.abs(w2)>z_two), np.mean(w2<z_left), np.mean(w2>z_right)],\n",
        "}\n",
        "dat=pd.DataFrame(data, index=['двусторонняя', 'левосторонняя', 'правосторонняя'])\n",
        "dat"
      ],
      "metadata": {
        "colab": {
          "base_uri": "https://localhost:8080/",
          "height": 179
        },
        "id": "nHjw7h2esTJ5",
        "outputId": "f2b949fa-e28f-4454-df72-6654ba5a3755"
      },
      "id": "nHjw7h2esTJ5",
      "execution_count": 84,
      "outputs": [
        {
          "output_type": "stream",
          "name": "stderr",
          "text": [
            "<ipython-input-84-9c5a2a61d4d2>:1: RuntimeWarning: divide by zero encountered in divide\n",
            "  w1=np.sqrt(n)*((estimation_theta_1-1)/estimation_sigma_1)\n"
          ]
        },
        {
          "output_type": "execute_result",
          "data": {
            "text/plain": [
              "                Мощность для theta=0.2   Мощность для theta=2\n",
              "двусторонняя                        1.0                0.9998\n",
              "левосторонняя                       1.0                0.0000\n",
              "правосторонняя                      0.0                0.9999"
            ],
            "text/html": [
              "\n",
              "  <div id=\"df-598e7810-e20a-4e44-8aaa-60b2df29c2c5\" class=\"colab-df-container\">\n",
              "    <div>\n",
              "<style scoped>\n",
              "    .dataframe tbody tr th:only-of-type {\n",
              "        vertical-align: middle;\n",
              "    }\n",
              "\n",
              "    .dataframe tbody tr th {\n",
              "        vertical-align: top;\n",
              "    }\n",
              "\n",
              "    .dataframe thead th {\n",
              "        text-align: right;\n",
              "    }\n",
              "</style>\n",
              "<table border=\"1\" class=\"dataframe\">\n",
              "  <thead>\n",
              "    <tr style=\"text-align: right;\">\n",
              "      <th></th>\n",
              "      <th>Мощность для theta=0.2</th>\n",
              "      <th>Мощность для theta=2</th>\n",
              "    </tr>\n",
              "  </thead>\n",
              "  <tbody>\n",
              "    <tr>\n",
              "      <th>двусторонняя</th>\n",
              "      <td>1.0</td>\n",
              "      <td>0.9998</td>\n",
              "    </tr>\n",
              "    <tr>\n",
              "      <th>левосторонняя</th>\n",
              "      <td>1.0</td>\n",
              "      <td>0.0000</td>\n",
              "    </tr>\n",
              "    <tr>\n",
              "      <th>правосторонняя</th>\n",
              "      <td>0.0</td>\n",
              "      <td>0.9999</td>\n",
              "    </tr>\n",
              "  </tbody>\n",
              "</table>\n",
              "</div>\n",
              "    <div class=\"colab-df-buttons\">\n",
              "\n",
              "  <div class=\"colab-df-container\">\n",
              "    <button class=\"colab-df-convert\" onclick=\"convertToInteractive('df-598e7810-e20a-4e44-8aaa-60b2df29c2c5')\"\n",
              "            title=\"Convert this dataframe to an interactive table.\"\n",
              "            style=\"display:none;\">\n",
              "\n",
              "  <svg xmlns=\"http://www.w3.org/2000/svg\" height=\"24px\" viewBox=\"0 -960 960 960\">\n",
              "    <path d=\"M120-120v-720h720v720H120Zm60-500h600v-160H180v160Zm220 220h160v-160H400v160Zm0 220h160v-160H400v160ZM180-400h160v-160H180v160Zm440 0h160v-160H620v160ZM180-180h160v-160H180v160Zm440 0h160v-160H620v160Z\"/>\n",
              "  </svg>\n",
              "    </button>\n",
              "\n",
              "  <style>\n",
              "    .colab-df-container {\n",
              "      display:flex;\n",
              "      gap: 12px;\n",
              "    }\n",
              "\n",
              "    .colab-df-convert {\n",
              "      background-color: #E8F0FE;\n",
              "      border: none;\n",
              "      border-radius: 50%;\n",
              "      cursor: pointer;\n",
              "      display: none;\n",
              "      fill: #1967D2;\n",
              "      height: 32px;\n",
              "      padding: 0 0 0 0;\n",
              "      width: 32px;\n",
              "    }\n",
              "\n",
              "    .colab-df-convert:hover {\n",
              "      background-color: #E2EBFA;\n",
              "      box-shadow: 0px 1px 2px rgba(60, 64, 67, 0.3), 0px 1px 3px 1px rgba(60, 64, 67, 0.15);\n",
              "      fill: #174EA6;\n",
              "    }\n",
              "\n",
              "    .colab-df-buttons div {\n",
              "      margin-bottom: 4px;\n",
              "    }\n",
              "\n",
              "    [theme=dark] .colab-df-convert {\n",
              "      background-color: #3B4455;\n",
              "      fill: #D2E3FC;\n",
              "    }\n",
              "\n",
              "    [theme=dark] .colab-df-convert:hover {\n",
              "      background-color: #434B5C;\n",
              "      box-shadow: 0px 1px 3px 1px rgba(0, 0, 0, 0.15);\n",
              "      filter: drop-shadow(0px 1px 2px rgba(0, 0, 0, 0.3));\n",
              "      fill: #FFFFFF;\n",
              "    }\n",
              "  </style>\n",
              "\n",
              "    <script>\n",
              "      const buttonEl =\n",
              "        document.querySelector('#df-598e7810-e20a-4e44-8aaa-60b2df29c2c5 button.colab-df-convert');\n",
              "      buttonEl.style.display =\n",
              "        google.colab.kernel.accessAllowed ? 'block' : 'none';\n",
              "\n",
              "      async function convertToInteractive(key) {\n",
              "        const element = document.querySelector('#df-598e7810-e20a-4e44-8aaa-60b2df29c2c5');\n",
              "        const dataTable =\n",
              "          await google.colab.kernel.invokeFunction('convertToInteractive',\n",
              "                                                    [key], {});\n",
              "        if (!dataTable) return;\n",
              "\n",
              "        const docLinkHtml = 'Like what you see? Visit the ' +\n",
              "          '<a target=\"_blank\" href=https://colab.research.google.com/notebooks/data_table.ipynb>data table notebook</a>'\n",
              "          + ' to learn more about interactive tables.';\n",
              "        element.innerHTML = '';\n",
              "        dataTable['output_type'] = 'display_data';\n",
              "        await google.colab.output.renderOutput(dataTable, element);\n",
              "        const docLink = document.createElement('div');\n",
              "        docLink.innerHTML = docLinkHtml;\n",
              "        element.appendChild(docLink);\n",
              "      }\n",
              "    </script>\n",
              "  </div>\n",
              "\n",
              "\n",
              "<div id=\"df-51f24d95-d818-4eaa-bbeb-b331e181eb96\">\n",
              "  <button class=\"colab-df-quickchart\" onclick=\"quickchart('df-51f24d95-d818-4eaa-bbeb-b331e181eb96')\"\n",
              "            title=\"Suggest charts\"\n",
              "            style=\"display:none;\">\n",
              "\n",
              "<svg xmlns=\"http://www.w3.org/2000/svg\" height=\"24px\"viewBox=\"0 0 24 24\"\n",
              "     width=\"24px\">\n",
              "    <g>\n",
              "        <path d=\"M19 3H5c-1.1 0-2 .9-2 2v14c0 1.1.9 2 2 2h14c1.1 0 2-.9 2-2V5c0-1.1-.9-2-2-2zM9 17H7v-7h2v7zm4 0h-2V7h2v10zm4 0h-2v-4h2v4z\"/>\n",
              "    </g>\n",
              "</svg>\n",
              "  </button>\n",
              "\n",
              "<style>\n",
              "  .colab-df-quickchart {\n",
              "      --bg-color: #E8F0FE;\n",
              "      --fill-color: #1967D2;\n",
              "      --hover-bg-color: #E2EBFA;\n",
              "      --hover-fill-color: #174EA6;\n",
              "      --disabled-fill-color: #AAA;\n",
              "      --disabled-bg-color: #DDD;\n",
              "  }\n",
              "\n",
              "  [theme=dark] .colab-df-quickchart {\n",
              "      --bg-color: #3B4455;\n",
              "      --fill-color: #D2E3FC;\n",
              "      --hover-bg-color: #434B5C;\n",
              "      --hover-fill-color: #FFFFFF;\n",
              "      --disabled-bg-color: #3B4455;\n",
              "      --disabled-fill-color: #666;\n",
              "  }\n",
              "\n",
              "  .colab-df-quickchart {\n",
              "    background-color: var(--bg-color);\n",
              "    border: none;\n",
              "    border-radius: 50%;\n",
              "    cursor: pointer;\n",
              "    display: none;\n",
              "    fill: var(--fill-color);\n",
              "    height: 32px;\n",
              "    padding: 0;\n",
              "    width: 32px;\n",
              "  }\n",
              "\n",
              "  .colab-df-quickchart:hover {\n",
              "    background-color: var(--hover-bg-color);\n",
              "    box-shadow: 0 1px 2px rgba(60, 64, 67, 0.3), 0 1px 3px 1px rgba(60, 64, 67, 0.15);\n",
              "    fill: var(--button-hover-fill-color);\n",
              "  }\n",
              "\n",
              "  .colab-df-quickchart-complete:disabled,\n",
              "  .colab-df-quickchart-complete:disabled:hover {\n",
              "    background-color: var(--disabled-bg-color);\n",
              "    fill: var(--disabled-fill-color);\n",
              "    box-shadow: none;\n",
              "  }\n",
              "\n",
              "  .colab-df-spinner {\n",
              "    border: 2px solid var(--fill-color);\n",
              "    border-color: transparent;\n",
              "    border-bottom-color: var(--fill-color);\n",
              "    animation:\n",
              "      spin 1s steps(1) infinite;\n",
              "  }\n",
              "\n",
              "  @keyframes spin {\n",
              "    0% {\n",
              "      border-color: transparent;\n",
              "      border-bottom-color: var(--fill-color);\n",
              "      border-left-color: var(--fill-color);\n",
              "    }\n",
              "    20% {\n",
              "      border-color: transparent;\n",
              "      border-left-color: var(--fill-color);\n",
              "      border-top-color: var(--fill-color);\n",
              "    }\n",
              "    30% {\n",
              "      border-color: transparent;\n",
              "      border-left-color: var(--fill-color);\n",
              "      border-top-color: var(--fill-color);\n",
              "      border-right-color: var(--fill-color);\n",
              "    }\n",
              "    40% {\n",
              "      border-color: transparent;\n",
              "      border-right-color: var(--fill-color);\n",
              "      border-top-color: var(--fill-color);\n",
              "    }\n",
              "    60% {\n",
              "      border-color: transparent;\n",
              "      border-right-color: var(--fill-color);\n",
              "    }\n",
              "    80% {\n",
              "      border-color: transparent;\n",
              "      border-right-color: var(--fill-color);\n",
              "      border-bottom-color: var(--fill-color);\n",
              "    }\n",
              "    90% {\n",
              "      border-color: transparent;\n",
              "      border-bottom-color: var(--fill-color);\n",
              "    }\n",
              "  }\n",
              "</style>\n",
              "\n",
              "  <script>\n",
              "    async function quickchart(key) {\n",
              "      const quickchartButtonEl =\n",
              "        document.querySelector('#' + key + ' button');\n",
              "      quickchartButtonEl.disabled = true;  // To prevent multiple clicks.\n",
              "      quickchartButtonEl.classList.add('colab-df-spinner');\n",
              "      try {\n",
              "        const charts = await google.colab.kernel.invokeFunction(\n",
              "            'suggestCharts', [key], {});\n",
              "      } catch (error) {\n",
              "        console.error('Error during call to suggestCharts:', error);\n",
              "      }\n",
              "      quickchartButtonEl.classList.remove('colab-df-spinner');\n",
              "      quickchartButtonEl.classList.add('colab-df-quickchart-complete');\n",
              "    }\n",
              "    (() => {\n",
              "      let quickchartButtonEl =\n",
              "        document.querySelector('#df-51f24d95-d818-4eaa-bbeb-b331e181eb96 button');\n",
              "      quickchartButtonEl.style.display =\n",
              "        google.colab.kernel.accessAllowed ? 'block' : 'none';\n",
              "    })();\n",
              "  </script>\n",
              "</div>\n",
              "    </div>\n",
              "  </div>\n"
            ],
            "application/vnd.google.colaboratory.intrinsic+json": {
              "type": "dataframe",
              "variable_name": "dat",
              "summary": "{\n  \"name\": \"dat\",\n  \"rows\": 3,\n  \"fields\": [\n    {\n      \"column\": \"\\u041c\\u043e\\u0449\\u043d\\u043e\\u0441\\u0442\\u044c \\u0434\\u043b\\u044f theta=0.2 \",\n      \"properties\": {\n        \"dtype\": \"number\",\n        \"std\": 0.5773502691896258,\n        \"min\": 0.0,\n        \"max\": 1.0,\n        \"num_unique_values\": 2,\n        \"samples\": [\n          0.0,\n          1.0\n        ],\n        \"semantic_type\": \"\",\n        \"description\": \"\"\n      }\n    },\n    {\n      \"column\": \"\\u041c\\u043e\\u0449\\u043d\\u043e\\u0441\\u0442\\u044c \\u0434\\u043b\\u044f theta=2\",\n      \"properties\": {\n        \"dtype\": \"number\",\n        \"std\": 0.5772636688146356,\n        \"min\": 0.0,\n        \"max\": 0.9999,\n        \"num_unique_values\": 3,\n        \"samples\": [\n          0.9998,\n          0.0\n        ],\n        \"semantic_type\": \"\",\n        \"description\": \"\"\n      }\n    }\n  ]\n}"
            }
          },
          "metadata": {},
          "execution_count": 84
        }
      ]
    },
    {
      "cell_type": "markdown",
      "id": "9419248f",
      "metadata": {
        "id": "9419248f"
      },
      "source": [
        "**Вывод:** из таблицы видно, что мощность высока для двусторонней альтернативы для обоих параметров. Для параметра $\\theta=0.2<\\theta_0$ мощность максимальная для левосторонней альтернативы и минимальна для правосторонней, для  $\\theta=2>\\theta_0$ наоборот.  Для гипотезы $\\mathsf{H}_0\\colon \\theta = 1\\ \\ vs.\\ \\ \\mathsf{H}_1\\colon \\theta \\not= 1$ мощность достигает максимального значения при принятии альтернативной гипотезы. Это показывает, что критерий Вальда верен для проверки данной гипотезы."
      ]
    },
    {
      "cell_type": "markdown",
      "id": "bc47e3b0",
      "metadata": {
        "id": "bc47e3b0"
      },
      "source": [
        "\n",
        "\n",
        "### Задача 4"
      ]
    },
    {
      "cell_type": "markdown",
      "id": "2d01f479",
      "metadata": {
        "id": "2d01f479"
      },
      "source": [
        "**Профиль физика**\n",
        "\n",
        "Период колебания математического маятника можно расчиатать по следующей формуле:\n",
        "$$T = 2\\pi \\sqrt{\\frac{l}{g}}$$\n",
        "Вы выполнили лабораторную работу по вычислению ускорения свободного падения. Длина нити маятника 50 см. В своей работе вы измеряли время 10 полных колебаний (10 периодов) с помощью обычного секундомера и получили такие значение:\n",
        "\n",
        "\n"
      ]
    },
    {
      "cell_type": "code",
      "execution_count": null,
      "id": "48281659",
      "metadata": {
        "id": "48281659"
      },
      "outputs": [],
      "source": [
        "T_sample = [14.47, 14.46, 14.73, 14.74, 16.14, 12.6, 14.17, 12.83, 14.1, 12.81, 12.98,\n",
        "            13.84, 13.96, 13.6, 14.13, 15.32, 13.98, 13.96, 12.86, 15.46, 13.2, 15.26,\n",
        "            14.86, 14.49, 14.8, 12.92, 14.65, 14.47, 15.88, 15.04, 14.84, 15.12, 12.96,\n",
        "            16.2, 11.99, 15.57, 13.55, 13.16, 14.76, 13.79, 12.58, 14.61, 14.1, 14.54,\n",
        "            14.72, 14.87, 13.37, 14.04, 13.09, 14.7]"
      ]
    },
    {
      "cell_type": "markdown",
      "id": "c548b045",
      "metadata": {
        "id": "c548b045"
      },
      "source": [
        "Получите массив величин g, используя формулу выше."
      ]
    },
    {
      "cell_type": "code",
      "execution_count": null,
      "id": "75e37d64",
      "metadata": {
        "id": "75e37d64"
      },
      "outputs": [],
      "source": [
        "<...>"
      ]
    },
    {
      "cell_type": "markdown",
      "id": "c7c6586c",
      "metadata": {
        "id": "c7c6586c"
      },
      "source": [
        "Предположим, такие величины имеют нормальное распределение $\\mathcal{N}(a, \\sigma^2)$. Используйте критерий Вальда для проверки гипотезы $\\mathsf{H}_0: a = 9.81$ vs $\\mathsf{H}_1: a \\neq 9.81$\n"
      ]
    },
    {
      "cell_type": "code",
      "execution_count": null,
      "id": "5669ee57",
      "metadata": {
        "id": "5669ee57"
      },
      "outputs": [],
      "source": [
        "<...>"
      ]
    },
    {
      "cell_type": "markdown",
      "id": "e163db40",
      "metadata": {
        "id": "e163db40"
      },
      "source": [
        "**Вывод:**"
      ]
    },
    {
      "cell_type": "markdown",
      "id": "6e70e12a",
      "metadata": {
        "id": "6e70e12a"
      },
      "source": [
        "**Профиль биология**\n",
        "\n",
        "Испытывается эффективность препарата, понижающего температуру. Каждому пациенту измеряют температуру до и после приема препарата. В результате разность температур для испытуемых получилась равной:\n"
      ]
    },
    {
      "cell_type": "code",
      "execution_count": 58,
      "id": "0cea9ef2",
      "metadata": {
        "id": "0cea9ef2"
      },
      "outputs": [],
      "source": [
        "a_sample = [1.19, 0.84, 1.3, 0.76, 0.99, 1.3, 0.97, 0.91, 0.97, 0.99, 1.18, 0.93, 0.84, 1.07, 0.95,\n",
        "     1.01, 1.04, 0.84, 1.0, 1.19, 1.31, 0.97, 1.1, 0.86, 1.02, 0.95, 0.93, 0.84, 0.85, 0.78]"
      ]
    },
    {
      "cell_type": "markdown",
      "id": "85a0eb3f",
      "metadata": {
        "id": "85a0eb3f"
      },
      "source": [
        "Предположим, такие величины имеют нормальное распределение $\\mathcal{N}(a, \\sigma^2)$. С помощью критерия Вальда проверьте гипотезу: $\\mathsf{H}_0 \\colon a=0$ vs. $\\mathsf{H}_1 \\colon a > 0$(правостороннняя альтернатива)"
      ]
    },
    {
      "cell_type": "code",
      "execution_count": 60,
      "id": "aab196d9",
      "metadata": {
        "id": "aab196d9",
        "colab": {
          "base_uri": "https://localhost:8080/"
        },
        "outputId": "656e3e5e-298e-4fe3-ffd7-9696b3f8b122"
      },
      "outputs": [
        {
          "output_type": "stream",
          "name": "stdout",
          "text": [
            "w=36.41,  ДИ=(0.9510032392869302, 1.04099676071307), p-value=0.05\n"
          ]
        }
      ],
      "source": [
        "a=0\n",
        "estimation_a=np.mean(a_sample)\n",
        "estimation_sigma=np.std(a_sample)\n",
        "estimation_sigma\n",
        "\n",
        "w, p_value, conf_int=wald_test(a_sample, a, estimation_a, estimation_sigma, alternative='greater')\n",
        "\n",
        "print(f'w={np.round(w,2)},  ДИ={conf_int}, p-value={np.round(p_value,2)}', sep=' ')"
      ]
    },
    {
      "cell_type": "markdown",
      "source": [
        "Сравним с критическим значением статистики"
      ],
      "metadata": {
        "id": "1bj1f9qP2LQg"
      },
      "id": "1bj1f9qP2LQg"
    },
    {
      "cell_type": "code",
      "source": [
        "c_right=np.abs(sps.norm.ppf(1-0.05))\n",
        "print('Истинное значение статистики=', np.round(c_right, 2))"
      ],
      "metadata": {
        "colab": {
          "base_uri": "https://localhost:8080/"
        },
        "id": "W0IpdpQn2R0o",
        "outputId": "82a4cd2e-babd-4ba9-897e-812313b0741a"
      },
      "id": "W0IpdpQn2R0o",
      "execution_count": 59,
      "outputs": [
        {
          "output_type": "stream",
          "name": "stdout",
          "text": [
            "Истинное значение статистики= 1.64\n"
          ]
        }
      ]
    },
    {
      "cell_type": "markdown",
      "id": "d98f0ff2",
      "metadata": {
        "id": "d98f0ff2"
      },
      "source": [
        "**Вывод:** Реализация выборки соответствует критерию $S=(w>C)$, параметр $a=0$ не принадлежит ДИ, $p-value=\\alpha$, значит гипотеза $H_0$ может быть отвергнута. Значит препарат понижает температуру."
      ]
    },
    {
      "cell_type": "markdown",
      "id": "adfe0600",
      "metadata": {
        "id": "adfe0600"
      },
      "source": [
        "### <b><i><font color=\"orange\">Сложная часть</font></i></b>"
      ]
    },
    {
      "cell_type": "markdown",
      "id": "034c700e",
      "metadata": {
        "id": "034c700e"
      },
      "source": [
        "\n",
        "###  Задача 5\n",
        "1. Пусть $X = ( X_1, ... X_n)$ — выборка из неизвестного распределения $\\mathsf{P} \\in \\mathcal{N}(a, \\sigma^2)$. Постройте критерий для проверки гипотез $\\mathsf{H}_0 : a = 0 $   vs.  $\\mathsf{H}_1 : a > 0$ уровня значимости $\\alpha$.\n",
        "\n",
        "Бонусный сложный пункт: получите выражение для p-value аналогично правостороннему критерию Вальда\n",
        "\n",
        "*Указание:*\n",
        "- Используйте статистику $T(X) = \\sqrt{n - 1} \\frac{\\overline{X}}{s}$, использовавшуюся при построении точных доверительных интервалов в нормальной модели. Какое распределение она имеет при справедливости $\\mathsf{H}_0$ (т.е. при $a = 0$)?\n",
        "- Подумайте, какой вид должен иметь критерий? При каких значениях $T(X)$ гипотезу $\\mathsf{H}_0$ разумно отвергать?\n",
        "- Этот критерий реализован в `scipy.stats.ttest_1samp`. Использовать для данной задачи его можно следующим образом: `sps.ttest_1samp(sample, popmean=0, alternative='greater')`. В результате применения функция вернет значение статистики критерия, p-value и количество степеней свободы. Вы можете проверить свой ответ с ее помощью."
      ]
    },
    {
      "cell_type": "markdown",
      "id": "5b415e77",
      "metadata": {
        "id": "5b415e77"
      },
      "source": [
        "2. Пусть  $X = ( X_1, ... X_n)$ &mdash; выборка из неизвестного распределения $\\mathsf{P}$ с конечным вторым моментом. Постройте асимптотический критерий для проверки гипотез $\\mathsf{H}_0 \\colon \\mathsf{E} X = 0 $   vs.  $\\mathsf{H}_1 \\colon \\mathsf{E} X > 0$ уровня значимости $\\alpha$. Покажите, что при $n \\to \\infty$ этот критерий совпадает с критерием из первого пункта."
      ]
    },
    {
      "cell_type": "markdown",
      "id": "d6aacc05",
      "metadata": {
        "id": "d6aacc05"
      },
      "source": [
        "**Решение:**"
      ]
    }
  ],
  "metadata": {
    "kernelspec": {
      "display_name": "Python 3 (ipykernel)",
      "language": "python",
      "name": "python3"
    },
    "language_info": {
      "codemirror_mode": {
        "name": "ipython",
        "version": 3
      },
      "file_extension": ".py",
      "mimetype": "text/x-python",
      "name": "python",
      "nbconvert_exporter": "python",
      "pygments_lexer": "ipython3",
      "version": "3.9.7"
    },
    "colab": {
      "provenance": []
    }
  },
  "nbformat": 4,
  "nbformat_minor": 5
}